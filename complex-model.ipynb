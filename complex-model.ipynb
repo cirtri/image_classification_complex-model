{
 "cells": [
  {
   "cell_type": "code",
   "execution_count": 1,
   "id": "349aeff2",
   "metadata": {},
   "outputs": [],
   "source": [
    "import tensorflow as tf\n",
    "from tensorflow import keras\n",
    "import pandas as pd\n",
    "import numpy as np"
   ]
  },
  {
   "cell_type": "code",
   "execution_count": 2,
   "id": "9a9f2d45",
   "metadata": {},
   "outputs": [],
   "source": [
    "train_df = pd.read_csv('./traincomplex.csv')\n",
    "train_df.head()\n",
    "np.random.shuffle(train_df.values)"
   ]
  },
  {
   "cell_type": "code",
   "execution_count": 5,
   "id": "29d1d1e9",
   "metadata": {},
   "outputs": [
    {
     "name": "stdout",
     "output_type": "stream",
     "text": [
      "Epoch 1/15\n",
      "625/625 [==============================] - 3s 3ms/step - loss: 0.6284 - accuracy: 0.6202\n",
      "Epoch 2/15\n",
      "625/625 [==============================] - 2s 3ms/step - loss: 0.6009 - accuracy: 0.6701\n",
      "Epoch 3/15\n",
      "625/625 [==============================] - 2s 3ms/step - loss: 0.5643 - accuracy: 0.7109\n",
      "Epoch 4/15\n",
      "625/625 [==============================] - 2s 3ms/step - loss: 0.5306 - accuracy: 0.7355\n",
      "Epoch 5/15\n",
      "625/625 [==============================] - 2s 3ms/step - loss: 0.5053 - accuracy: 0.7559\n",
      "Epoch 6/15\n",
      "625/625 [==============================] - 2s 3ms/step - loss: 0.4829 - accuracy: 0.7707\n",
      "Epoch 7/15\n",
      "625/625 [==============================] - 2s 3ms/step - loss: 0.4678 - accuracy: 0.7764\n",
      "Epoch 8/15\n",
      "625/625 [==============================] - 2s 3ms/step - loss: 0.4517 - accuracy: 0.7875\n",
      "Epoch 9/15\n",
      "625/625 [==============================] - 2s 3ms/step - loss: 0.4406 - accuracy: 0.7951\n",
      "Epoch 10/15\n",
      "625/625 [==============================] - 2s 3ms/step - loss: 0.4265 - accuracy: 0.7994\n",
      "Epoch 11/15\n",
      "625/625 [==============================] - 2s 3ms/step - loss: 0.4204 - accuracy: 0.8038\n",
      "Epoch 12/15\n",
      "625/625 [==============================] - 2s 3ms/step - loss: 0.4126 - accuracy: 0.8070\n",
      "Epoch 13/15\n",
      "625/625 [==============================] - 2s 3ms/step - loss: 0.4052 - accuracy: 0.8120\n",
      "Epoch 14/15\n",
      "625/625 [==============================] - 2s 3ms/step - loss: 0.4015 - accuracy: 0.8126\n",
      "Epoch 15/15\n",
      "625/625 [==============================] - 2s 3ms/step - loss: 0.3905 - accuracy: 0.8221\n"
     ]
    },
    {
     "data": {
      "text/plain": [
       "<keras.callbacks.History at 0x214273843d0>"
      ]
     },
     "execution_count": 5,
     "metadata": {},
     "output_type": "execute_result"
    }
   ],
   "source": [
    "model = keras.Sequential([\n",
    "    keras.layers.Dense(256,input_shape=(2,),activation='relu'),\n",
    "    keras.layers.Dropout(0.4),\n",
    "    keras.layers.Dense(128,activation='relu'),\n",
    "    keras.layers.Dropout(0.4),\n",
    "    keras.layers.Dense(128,activation='relu'),\n",
    "    keras.layers.Dense(2,activation='sigmoid')\n",
    "])\n",
    "\n",
    "model.compile(optimizer='adam',\n",
    "              loss=keras.losses.SparseCategoricalCrossentropy(from_logits=True),\n",
    "              metrics=['accuracy']\n",
    ")\n",
    "\n",
    "x=np.column_stack((train_df.x.values,train_df.y.values))\n",
    "\n",
    "model.fit(x,train_df.color.values,batch_size=32,epochs=15)"
   ]
  },
  {
   "cell_type": "code",
   "execution_count": null,
   "id": "9f796f9c",
   "metadata": {},
   "outputs": [],
   "source": [
    "test_df = pd.read_csv('./testcomplex.csv')\n",
    "test_x = np.column_stack((test_df.x.values,test_df.y.values))\n",
    "\n",
    "model.evaluate(test_x,test_df.color.values)"
   ]
  }
 ],
 "metadata": {
  "kernelspec": {
   "display_name": "Python 3 (ipykernel)",
   "language": "python",
   "name": "python3"
  },
  "language_info": {
   "codemirror_mode": {
    "name": "ipython",
    "version": 3
   },
   "file_extension": ".py",
   "mimetype": "text/x-python",
   "name": "python",
   "nbconvert_exporter": "python",
   "pygments_lexer": "ipython3",
   "version": "3.9.13"
  }
 },
 "nbformat": 4,
 "nbformat_minor": 5
}
